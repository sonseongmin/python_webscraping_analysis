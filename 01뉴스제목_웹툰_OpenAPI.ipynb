{
 "cells": [
  {
   "cell_type": "markdown",
   "id": "eb0bfa44",
   "metadata": {},
   "source": [
    "## 1. 뉴스제목 가져오기\n",
    "* user-agent 요청헤더를 반드시 설정해야 한다."
   ]
  },
  {
   "cell_type": "code",
   "execution_count": 2,
   "id": "f0d27781",
   "metadata": {},
   "outputs": [
    {
     "name": "stdout",
     "output_type": "stream",
     "text": [
      "Name: requests\n",
      "Version: 2.32.3\n",
      "Summary: Python HTTP for Humans.\n",
      "Home-page: https://requests.readthedocs.io\n",
      "Author: Kenneth Reitz\n",
      "Author-email: me@kennethreitz.org\n",
      "License: Apache-2.0\n",
      "Location: C:\\Users\\user\\anaconda3\\Lib\\site-packages\n",
      "Requires: certifi, charset-normalizer, idna, urllib3\n",
      "Required-by: aext-assistant-server, anaconda-catalogs, anaconda-client, anaconda-cloud-auth, anaconda-project, conda, conda-build, conda-repo-cli, conda_package_streaming, cookiecutter, datashader, jupyterlab_server, panel, requests-file, requests-toolbelt, Sphinx, streamlit, tldextract\n"
     ]
    }
   ],
   "source": [
    "# requests 라이브러리 설치여부 확인\n",
    "!pip show requests\n"
   ]
  },
  {
   "cell_type": "code",
   "execution_count": 4,
   "id": "f7798ea8",
   "metadata": {},
   "outputs": [
    {
     "name": "stdout",
     "output_type": "stream",
     "text": [
      "Name: beautifulsoup4\n",
      "Version: 4.12.3\n",
      "Summary: Screen-scraping library\n",
      "Home-page: https://www.crummy.com/software/BeautifulSoup/bs4/\n",
      "Author: \n",
      "Author-email: Leonard Richardson <leonardr@segfault.org>\n",
      "License: MIT License\n",
      "Location: c:\\Users\\user\\anaconda3\\Lib\\site-packages\n",
      "Requires: soupsieve\n",
      "Required-by: conda-build, nbconvert\n",
      "Note: you may need to restart the kernel to use updated packages.\n"
     ]
    }
   ],
   "source": [
    "# beautifulsoup4 라이브러리 설치여부 확인\n",
    "%pip show beautifulsoup4"
   ]
  },
  {
   "cell_type": "code",
   "execution_count": 2,
   "id": "bf80a429",
   "metadata": {},
   "outputs": [],
   "source": [
    "# reqeusts, bs4 import\n",
    "import requests\n",
    "import bs4\n",
    "# BeautifulSoup 클래스 import\n",
    "from bs4 import BeautifulSoup"
   ]
  },
  {
   "cell_type": "code",
   "execution_count": 9,
   "id": "9788d6ac",
   "metadata": {},
   "outputs": [
    {
     "name": "stdout",
     "output_type": "stream",
     "text": [
      "requests버전 2.32.3\n",
      "bs4버전 4.12.3\n"
     ]
    }
   ],
   "source": [
    "# requests, bs4 버전 확인하기\n",
    "print(f'requests버전 {requests.__version__}')\n",
    "# requests, bs4 버전 확인하기\n",
    "print(f'bs4버전 {bs4.__version__}')"
   ]
  },
  {
   "cell_type": "markdown",
   "id": "ccb91def-cde3-4aeb-b0e5-2e7233500333",
   "metadata": {},
   "source": [
    "### 1. 뉴스 제목 추출하기"
   ]
  },
  {
   "cell_type": "code",
   "execution_count": 3,
   "id": "94c12fd6",
   "metadata": {},
   "outputs": [
    {
     "name": "stdout",
     "output_type": "stream",
     "text": [
      "https://news.naver.com/section/105\n",
      "<Response [200]>\n",
      "<class 'requests.models.Response'>\n",
      "200 True\n",
      "82\n",
      "<class 'bs4.element.ResultSet'>\n",
      "https://n.news.naver.com/mnews/article/214/0001416858\n",
      "악성 링크 사전에 거르는 '엑스레이 서비스' 시범 도입\n",
      "https://n.news.naver.com/mnews/article/comment/214/0001416858\n",
      "\n",
      "https://n.news.naver.com/mnews/article/277/0005574163\n",
      "카메라로 옷장 비추면 코디 추천…갤S25 '비주얼 AI' 업데이트\n",
      "https://n.news.naver.com/mnews/article/comment/277/0005574163\n",
      "\n",
      "https://n.news.naver.com/mnews/article/366/0001067619\n",
      "MS가 주목한 韓 스타트업 뤼튼 “전 국민 맞춤형 AI 시대 만든다”\n",
      "https://n.news.naver.com/mnews/article/comment/366/0001067619\n",
      "\n",
      "https://n.news.naver.com/mnews/article/277/0005574783\n",
      "과기정통부-산업부 맞손…화학·금속·세라믹·섬유 데이터 개방\n",
      "https://n.news.naver.com/mnews/article/comment/277/0005574783\n",
      "\n",
      "https://n.news.naver.com/mnews/article/029/0002946693\n",
      "AI로 보이스피싱 감지, 이체·출금 차단...SKT, 금융업계·에이닷에 적용\n",
      "https://n.news.naver.com/mnews/article/comment/029/0002946693\n",
      "\n",
      "https://n.news.naver.com/mnews/article/092/0002369863\n",
      "K푸드에 닥친 '관세 쇼크'…삼양·LG생건 등 더 걱정\n",
      "https://n.news.naver.com/mnews/article/comment/092/0002369863\n",
      "\n",
      "https://n.news.naver.com/mnews/article/584/0000031792\n",
      "DNA까지 침투…나노플라스틱 생성 원리 최초 규명\n",
      "https://n.news.naver.com/mnews/article/comment/584/0000031792\n",
      "\n",
      "https://n.news.naver.com/mnews/article/009/0005472950\n",
      "옷장 비췄더니 AI가 \"이 옷 입으세요\"\n",
      "https://n.news.naver.com/mnews/article/comment/009/0005472950\n",
      "\n",
      "https://n.news.naver.com/mnews/article/092/0002369861\n",
      "BBQ, 법정관리 '위메프' 품을까...\"인수 의향서 제출\"\n",
      "https://n.news.naver.com/mnews/article/comment/092/0002369861\n",
      "\n",
      "https://n.news.naver.com/mnews/article/138/0002194290\n",
      "키움증권 ‘전산 먹통’ 논란…  결국 다우기술로 불똥튀나\n",
      "https://n.news.naver.com/mnews/article/comment/138/0002194290\n",
      "\n",
      "https://n.news.naver.com/mnews/article/138/0002194287\n",
      "[DD퇴근길] '갤럭시S25' 통했나?…삼성전자, 1Q 어닝서프라이즈\n",
      "https://n.news.naver.com/mnews/article/comment/138/0002194287\n",
      "\n",
      "https://n.news.naver.com/mnews/article/003/0013171527\n",
      "아이폰 미리 사야할까…관세 쇼크에 美에선 일부 사재기 현상\n",
      "https://n.news.naver.com/mnews/article/comment/003/0013171527\n",
      "\n",
      "https://n.news.naver.com/mnews/article/092/0002369859\n",
      "순이익 3분의 1인데…MBK, '오스템임플란트' 고배당 논란\n",
      "https://n.news.naver.com/mnews/article/comment/092/0002369859\n",
      "\n",
      "https://n.news.naver.com/mnews/article/417/0001069560\n",
      "소상공인과 IT공룡 사이… 장미 대선 앞두고 '온플법' 재점화될까\n",
      "https://n.news.naver.com/mnews/article/comment/417/0001069560\n",
      "\n",
      "https://n.news.naver.com/mnews/article/293/0000065897\n",
      "토스랩의 '잔디 몰입' 전략…챗GPT 없어도 AI로 리포트 쓰고 번역한다[테크체인저]\n",
      "https://n.news.naver.com/mnews/article/comment/293/0000065897\n",
      "\n",
      "https://n.news.naver.com/mnews/article/092/0002369855\n",
      "[유미's 픽] 트럼프 관세 폭탄 '코 앞'…글로벌 SW·AI 시장 찬바람 불까\n",
      "https://n.news.naver.com/mnews/article/comment/092/0002369855\n",
      "\n",
      "https://n.news.naver.com/mnews/article/421/0008180923\n",
      "'국민 게임' 포트리스 빠르면 올해 안에 돌아온다\n",
      "https://n.news.naver.com/mnews/article/comment/421/0008180923\n",
      "\n",
      "https://n.news.naver.com/mnews/article/469/0000858365\n",
      "국산 유전자재조합 탄저 백신 세계 첫 허가... GC녹십자, 1년반 만에 상용화\n",
      "https://n.news.naver.com/mnews/article/comment/469/0000858365\n",
      "\n",
      "https://n.news.naver.com/mnews/article/025/0003432725\n",
      "[팩플] 미중 AI격차 좁혀졌다...LG AI 엑사원 3.5 주목할만한 모델 선정\n",
      "https://n.news.naver.com/mnews/article/comment/025/0003432725\n",
      "\n",
      "https://n.news.naver.com/mnews/article/009/0005472903\n",
      "지브리풍 인기 끌자...네이버 스노우도 “일본 애니 프사 만들어드려요”\n",
      "https://n.news.naver.com/mnews/article/comment/009/0005472903\n",
      "\n",
      "https://n.news.naver.com/mnews/article/020/0003626847\n",
      "[생활 속 IT] 아이폰 ‘나의 찾기’로 실시간 위치 공유·제품 찾는 방법\n",
      "https://n.news.naver.com/mnews/article/comment/020/0003626847\n",
      "\n",
      "https://n.news.naver.com/mnews/article/029/0002946736\n",
      "아이폰 가격 인상 우려에 \"미리 산다\"...美 오프라인 매장 `인산인해`\n",
      "https://n.news.naver.com/mnews/article/comment/029/0002946736\n",
      "\n",
      "https://n.news.naver.com/mnews/article/138/0002194283\n",
      "[韓보안진단]⑥ 20년만에 19곳 인수…팔로알토네트웍스 성장 비결은 '통합'\n",
      "https://n.news.naver.com/mnews/article/comment/138/0002194283\n",
      "\n",
      "https://n.news.naver.com/mnews/article/243/0000076002\n",
      "\"아이폰 50만원 올라?\"…관세에 애플스토어 뛰어간 미국인들\n",
      "https://n.news.naver.com/mnews/article/comment/243/0000076002\n",
      "\n",
      "https://n.news.naver.com/mnews/article/138/0002194282\n",
      "‘재해복구’ 없는 범정부 초거대AI 공통기반 구현사업, 졸속 추진 우려\n",
      "https://n.news.naver.com/mnews/article/comment/138/0002194282\n",
      "\n",
      "https://n.news.naver.com/mnews/article/421/0008180886\n",
      "[일문일답] 의협, 정부·국회에 대화 요구…\"교육 어려우면 안 뽑아야\"\n",
      "https://n.news.naver.com/mnews/article/comment/421/0008180886\n",
      "\n",
      "https://n.news.naver.com/mnews/article/584/0000031788\n",
      "'왕좌의 게임' 늑대 부활…1만2500년전 멸종 '다이어울프' 복원\n",
      "https://n.news.naver.com/mnews/article/comment/584/0000031788\n",
      "\n",
      "https://n.news.naver.com/mnews/article/138/0002194278\n",
      "리더십 공백에 실적 악화까지...한국IBM, 전략 재정비 ‘시험대’\n",
      "https://n.news.naver.com/mnews/article/comment/138/0002194278\n",
      "\n",
      "https://n.news.naver.com/mnews/article/138/0002194277\n",
      "'기대 이상' 성과 낸 삼성전자…커진 美 관세 리스크·고객사 확보가 과제\n",
      "https://n.news.naver.com/mnews/article/comment/138/0002194277\n",
      "\n",
      "https://n.news.naver.com/mnews/article/092/0002369853\n",
      "뉴엔AI, 英 FT가 뽑은 고성장 '500대 기업' 등극…IPO로 성장 정점 찍나\n",
      "https://n.news.naver.com/mnews/article/comment/092/0002369853\n",
      "\n",
      "https://n.news.naver.com/mnews/article/001/0015318051\n",
      "[마켓톺] 관세전쟁에 빛바랜 삼성전자의 호실적…반등의 조건은\n",
      "https://n.news.naver.com/mnews/article/comment/001/0015318051\n",
      "\n",
      "https://n.news.naver.com/mnews/article/028/0002739882\n",
      "한국계 우주비행사 태운 러 우주선, 우주정거장 향해 발사\n",
      "https://n.news.naver.com/mnews/article/comment/028/0002739882\n",
      "\n",
      "https://n.news.naver.com/mnews/article/030/0003301426\n",
      "LG이노텍, 반도체 유리기판 투자 개시…구미에 시생산 라인 구축\n",
      "https://n.news.naver.com/mnews/article/comment/030/0003301426\n",
      "\n",
      "https://n.news.naver.com/mnews/article/022/0004026009\n",
      "자라서 우주비행사 된 韓 이민자 가정 소년…미래 위한 ISS 임무 수행한다\n",
      "https://n.news.naver.com/mnews/article/comment/022/0004026009\n",
      "\n",
      "https://n.news.naver.com/mnews/article/082/0001320209\n",
      "“쪼개고 또 쪼개고”… 돈만 좇는 GC녹십자, 주가 추락에도 주주는 없다\n",
      "https://n.news.naver.com/mnews/article/comment/082/0001320209\n",
      "\n",
      "https://n.news.naver.com/mnews/article/009/0005472875\n",
      "구글, ‘AI 모드’에 멀티모달 검색 추가…이미지로 검색까지\n",
      "https://n.news.naver.com/mnews/article/comment/009/0005472875\n",
      "\n",
      "https://n.news.naver.com/mnews/article/011/0004471627\n",
      "[영상] '인간 태운 늑대 로봇 질주'…日 차세대 이동수단 '콜레오' 화제\n",
      "https://n.news.naver.com/mnews/article/comment/011/0004471627\n",
      "\n",
      "https://n.news.naver.com/mnews/article/421/0008180853\n",
      "뤼튼 \"쓸수록 돈버는 무료 AI모델 지향…편의점 등 30여곳 제휴\"\n",
      "https://n.news.naver.com/mnews/article/comment/421/0008180853\n",
      "\n",
      "https://n.news.naver.com/mnews/article/421/0008180849\n",
      "갤S26 놓고 엇갈리는 전망…\"카메라·S펜 큰 변화 없을 것\"\n",
      "https://n.news.naver.com/mnews/article/comment/421/0008180849\n",
      "\n",
      "https://n.news.naver.com/mnews/article/092/0002369845\n",
      "\"중고거래, 피해는 사용자 몫\"…개인 보안 솔루션 갖춰야\n",
      "https://n.news.naver.com/mnews/article/comment/092/0002369845\n",
      "\n",
      "https://n.news.naver.com/mnews/article/092/0002369843\n",
      "로봇에 진심인 中, 휴머노이드 로봇 훈련 시설 만들었다\n",
      "https://n.news.naver.com/mnews/article/comment/092/0002369843\n",
      "\n"
     ]
    }
   ],
   "source": [
    "# IT/과학 뉴스 \n",
    "req_param = {\n",
    "    'sid': 105\n",
    "}\n",
    "# \n",
    "url = 'https://news.naver.com/section/{sid}'.format(**req_param)\n",
    "print(url)\n",
    "\n",
    "#url2 = 'https://news.naver.com/section/105'\n",
    "# 요청 헤더 설정 : 브라우저 정보\n",
    "req_header = {\n",
    "'user-agent': 'Mozilla/5.0 (Windows NT 10.0; Win64; x64) AppleWebKit/537.36 (KHTML, like Gecko) Chrome/104.0.0.0 Safari/537.36'   \n",
    "}\n",
    "\n",
    "# requests 의 get() 함수 호출하기 \n",
    "res = requests.get(url, headers=req_header)\n",
    "print(res)\n",
    "print(type(res))\n",
    "print(res.status_code, res.ok)\n",
    "# 응답(response)이 OK 이면\n",
    "if res.ok:\n",
    "   html= res.text\n",
    "   soup= BeautifulSoup(html, 'html.parser')\n",
    "  # print(html)\n",
    "# 응답 (response)에서 text 추출\n",
    "\n",
    "# BeautifulSoup 객체 생성  \n",
    "# CSS 선택자\n",
    "   print(len(soup.select(\"div.sa_text a[href*='mnews/article']\")))\n",
    "# print(soup.select(\"div.sa_text a[href*='mnews/article']\"))\n",
    "   a_tag_list = soup.select(\"div.sa_text a[href*='mnews/article']\")\n",
    "   print(type(a_tag_list))\n",
    "   #print(a_tag_list)\n",
    "   for a_tag in a_tag_list:\n",
    "       #print(type(a_tag))\n",
    "       title = a_tag.text.strip()\n",
    "       #href의 속성을 가져온다.\n",
    "       link= a_tag['href']\n",
    "       print(link)\n",
    "       print(title)\n",
    "# <a> 태그 리스트 순회하기    \n",
    "else:\n",
    "    print(f'error code = {res.status_code}')\n",
    "# 응답(response)이 Error 이면 status code 출력    \n",
    "\n"
   ]
  },
  {
   "cell_type": "markdown",
   "id": "45640860-a449-4285-90d7-5f300292b461",
   "metadata": {},
   "source": [
    "### 1.1 뉴스제목 추출하는 함수 선언하기"
   ]
  },
  {
   "cell_type": "code",
   "execution_count": 56,
   "id": "9f2e4ef8",
   "metadata": {},
   "outputs": [],
   "source": [
    "import requests\n",
    "from bs4 import BeautifulSoup\n",
    "\n",
    "section_dict = {\n",
    "    100: \"정치\",\n",
    "    101: \"경제\",\n",
    "    102: \"사회\",\n",
    "    103: \"생활/문화\",\n",
    "    104: \"세계\",\n",
    "    105: \"IT/과학\",\n",
    "}\n",
    "\n",
    "\n",
    "def print_news(sid):  # print_new(103,'생활/문화')\n",
    "    section = section_dict[sid]\n",
    "    req_param = {\"sid\": sid}\n",
    "\n",
    "    url = \"https://news.naver.com/section/{sid}\".format(**req_param)\n",
    "    print(f\"===> {url}{section}뉴스<====\")\n",
    "    req_header = {\n",
    "        \"user-agent\": \"Mozilla/5.0 (Windows NT 10.0; Win64; x64) AppleWebKit/537.36 (KHTML, like Gecko) Chrome/104.0.0.0 Safari/537.36\"\n",
    "    }\n",
    "\n",
    "\n",
    "# requests 의 get() 함수 호출하기\n",
    "    res = requests.get(url, headers=req_header)\n",
    "    print(res)\n",
    "    print(type(res))\n",
    "    print(res.status_code, res.ok)\n",
    "    if res.ok:\n",
    "       html= res.text\n",
    "       soup= BeautifulSoup(html, 'html.parser')\n",
    "  # print(html)\n",
    "# 응답 (response)에서 text 추출\n",
    "\n",
    "# BeautifulSoup 객체 생성  \n",
    "# CSS 선택자\n",
    "    print(len(soup.select(\"div.sa_text a[href*='mnews/article']\")))\n",
    "# print(soup.select(\"div.sa_text a[href*='mnews/article']\"))\n",
    "    a_tag_list = soup.select(\"div.sa_text a[href*='mnews/article']\")\n",
    "    print(type(a_tag_list))\n",
    "   #print(a_tag_list)\n",
    "    for a_tag in a_tag_list:\n",
    "       #print(type(a_tag))\n",
    "       title = a_tag.text.strip()\n",
    "       #href의 속성을 가져온다.\n",
    "       link= a_tag['href']\n",
    "       print(link)\n",
    "       print(title)\n",
    "# <a> 태그 리스트 순회하기    \n",
    "    else:\n",
    "       print(f'error code = {res.status_code}')"
   ]
  },
  {
   "cell_type": "code",
   "execution_count": 49,
   "id": "858952c6",
   "metadata": {},
   "outputs": [
    {
     "name": "stdout",
     "output_type": "stream",
     "text": [
      "===> https://news.naver.com/section/103생활/문화뉴스<====\n"
     ]
    }
   ],
   "source": [
    "print_news(103)"
   ]
  },
  {
   "cell_type": "markdown",
   "id": "323196dc",
   "metadata": {},
   "source": [
    "### 2. Image 다운로드\n",
    "* referer 요청 헤더를 반드시 설정해야 한다."
   ]
  },
  {
   "cell_type": "code",
   "execution_count": null,
   "id": "c72d6cb1",
   "metadata": {},
   "outputs": [
    {
     "name": "stdout",
     "output_type": "stream",
     "text": [
      "200\n",
      "writing to 20220804112251_d97bd1e1b38f0cd022e4e3639d2926b3_IMAG01_1.jpg(299,319 bytes)\n",
      "200\n",
      "writing to 20220804112251_d97bd1e1b38f0cd022e4e3639d2926b3_IMAG01_2.jpg(163,333 bytes)\n",
      "200\n",
      "writing to 20220804112251_d97bd1e1b38f0cd022e4e3639d2926b3_IMAG01_3.jpg(182,530 bytes)\n"
     ]
    }
   ],
   "source": [
    "import requests\n",
    "import os\n",
    "\n",
    "req_header = {\n",
    "    'referer':''\n",
    "}\n",
    "\n",
    "img_urls = [\n",
    "    'https://image-comic.pstatic.net/webtoon/798173/5/20220804112251_d97bd1e1b38f0cd022e4e3639d2926b3_IMAG01_1.jpg',\n",
    "    'https://image-comic.pstatic.net/webtoon/798173/5/20220804112251_d97bd1e1b38f0cd022e4e3639d2926b3_IMAG01_2.jpg',\n",
    "    'https://image-comic.pstatic.net/webtoon/798173/5/20220804112251_d97bd1e1b38f0cd022e4e3639d2926b3_IMAG01_3.jpg'\n",
    "]\n",
    "\n",
    "for img_url in img_urls:\n",
    "    pass\n",
    "    # requests 의 get(url, headers) 함수 호출하기 \n",
    "        \n",
    "        # binary 응답 데이터 가져오기\n",
    "        \n",
    "        # url에서 파일명만 추출하기\n",
    "        \n",
    "        # binday data를 file에 write하기\n"
   ]
  },
  {
   "cell_type": "markdown",
   "id": "e8b00a04",
   "metadata": {},
   "source": [
    "* 현재 요청된 페이지의 image 모두 다운로드 해보기"
   ]
  },
  {
   "cell_type": "code",
   "execution_count": null,
   "id": "b30f7bf5",
   "metadata": {},
   "outputs": [],
   "source": []
  },
  {
   "cell_type": "markdown",
   "id": "2ac9f5f9",
   "metadata": {},
   "source": [
    "### 3. 파일 업로드 하기\n",
    "* http://httpbin.org/post 업로드 요청을 할 수 있는 url"
   ]
  },
  {
   "cell_type": "code",
   "execution_count": null,
   "id": "04da4790",
   "metadata": {},
   "outputs": [
    {
     "name": "stdout",
     "output_type": "stream",
     "text": [
      "200\n"
     ]
    }
   ],
   "source": [
    "import requests\n",
    "\n",
    "upload_files = {\n",
    "    \n",
    "}\n",
    "#print(upload_files)\n",
    "\n",
    "url = 'http://httpbin.org/post'\n",
    "# file 업로드 하려면 requests의 post 함수에 files 속성을 사용합니다.\n",
    "\n"
   ]
  },
  {
   "cell_type": "markdown",
   "id": "7ad65f12",
   "metadata": {},
   "source": [
    "### 4. 캡챠(이미지) API 호출하기\n",
    "* urllib 사용\n",
    "* 1. 캡차 키 발급 요청\n",
    "  2. 캡차 이미지 요청\n",
    "  3. 사용자 입력값 검증 요청"
   ]
  },
  {
   "cell_type": "code",
   "execution_count": 2,
   "id": "bc4ae360-e772-4873-8642-d3494edd34e1",
   "metadata": {},
   "outputs": [],
   "source": [
    "# 캡차 키 발급 요청\n"
   ]
  },
  {
   "cell_type": "code",
   "execution_count": 1,
   "id": "7b95b6a0-c218-4792-82a6-da4d80872071",
   "metadata": {},
   "outputs": [],
   "source": [
    "# 캡차 이미지 요청\n"
   ]
  },
  {
   "cell_type": "code",
   "execution_count": 3,
   "id": "a79076af-2cd0-4de2-8301-316b9130c55e",
   "metadata": {},
   "outputs": [],
   "source": [
    "#  사용자 입력값 검증 요청\n",
    "\n"
   ]
  },
  {
   "cell_type": "markdown",
   "id": "b7d984a6",
   "metadata": {},
   "source": [
    "* requests를 사용하는 코드로 변경하기\n",
    "* [requests docs](https://requests.readthedocs.io/en/latest/user/quickstart/)"
   ]
  },
  {
   "cell_type": "code",
   "execution_count": null,
   "id": "727b427b",
   "metadata": {
    "scrolled": true
   },
   "outputs": [
    {
     "name": "stdout",
     "output_type": "stream",
     "text": [
      "Error Code: 403\n"
     ]
    }
   ],
   "source": [
    "# 사용자 입력값 검증 요청\n",
    "\n"
   ]
  },
  {
   "cell_type": "markdown",
   "id": "d5e1179a",
   "metadata": {},
   "source": [
    "### 5. 블로그 검색하기"
   ]
  },
  {
   "cell_type": "code",
   "execution_count": null,
   "id": "877d0c7f",
   "metadata": {},
   "outputs": [],
   "source": [
    "import requests\n",
    "import pprint\n",
    "\n",
    "headers = {\n",
    "    'X-Naver-Client-Id': '',\n",
    "    'X-Naver-Client-Secret': '',\n",
    "}\n",
    "\n",
    "payload = {\n",
    "    'query': '파이썬',\n",
    "    'display': 100,\n",
    "    'sort': 'sim'\n",
    "}\n",
    "\n",
    "url = 'https://openapi.naver.com/v1/search/blog.json'\n",
    "\n",
    "\n",
    "# requests get(url, params, headers) 요청 \n",
    "\n",
    "# json() 함수로 응답 결과 가져오오기\n",
    "# 'title' , 'bloggername' , 'description' , 'bloggerlink' , 'link'\n",
    "\n",
    "# 'data/nhnblog.txt' 파일 생성하기\n"
   ]
  }
 ],
 "metadata": {
  "kernelspec": {
   "display_name": "base",
   "language": "python",
   "name": "python3"
  },
  "language_info": {
   "codemirror_mode": {
    "name": "ipython",
    "version": 3
   },
   "file_extension": ".py",
   "mimetype": "text/x-python",
   "name": "python",
   "nbconvert_exporter": "python",
   "pygments_lexer": "ipython3",
   "version": "3.12.7"
  }
 },
 "nbformat": 4,
 "nbformat_minor": 5
}
